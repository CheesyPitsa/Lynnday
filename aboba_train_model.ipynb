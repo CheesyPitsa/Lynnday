{
  "cells": [
    {
      "cell_type": "markdown",
      "metadata": {
        "id": "view-in-github",
        "colab_type": "text"
      },
      "source": [
        "<a href=\"https://colab.research.google.com/github/CheesyPitsa/Lynnday/blob/detached/aboba_train_model.ipynb\" target=\"_parent\"><img src=\"https://colab.research.google.com/assets/colab-badge.svg\" alt=\"Open In Colab\"/></a>"
      ]
    },
    {
      "cell_type": "code",
      "execution_count": null,
      "metadata": {
        "id": "9JU4MpB3Fg_W"
      },
      "outputs": [],
      "source": [
        "import cv2    \n",
        "import math   \n",
        "import pandas as pd \n",
        "import numpy as np    \n",
        "from keras.utils import np_utils\n",
        "from skimage.transform import resize   \n",
        "from sklearn.model_selection import train_test_split\n",
        "from glob import glob\n",
        "from tqdm import tqdm\n",
        "import keras\n",
        "import tensorflow as tf\n",
        "from tensorflow.keras.models import Sequential\n",
        "from tensorflow.keras.applications.vgg16 import VGG16\n",
        "from tensorflow.keras.layers import Dense, InputLayer, Dropout, Flatten\n",
        "from tensorflow.keras.layers import Conv2D, MaxPooling2D, GlobalMaxPooling2D\n",
        "from tensorflow.keras.preprocessing import image\n",
        "from tensorflow.keras.callbacks import ModelCheckpoint\n",
        "import csv\n",
        "from tensorflow.keras.utils import get_file\n",
        "from urllib.request import urlopen"
      ]
    },
    {
      "cell_type": "code",
      "execution_count": null,
      "metadata": {
        "colab": {
          "base_uri": "https://localhost:8080/",
          "height": 206
        },
        "id": "qX0Vb0OnFg_a",
        "outputId": "2210eb46-f745-40f9-992d-6e169f0e4051"
      },
      "outputs": [
        {
          "output_type": "execute_result",
          "data": {
            "text/plain": [
              "   image class\n",
              "0  nude0  nude\n",
              "1  nude1  nude\n",
              "2  nude2  nude\n",
              "3  nude3  nude\n",
              "4  nude4  nude"
            ],
            "text/html": [
              "\n",
              "  <div id=\"df-23fdc2ca-01ab-4161-82ea-b5ce60091f38\">\n",
              "    <div class=\"colab-df-container\">\n",
              "      <div>\n",
              "<style scoped>\n",
              "    .dataframe tbody tr th:only-of-type {\n",
              "        vertical-align: middle;\n",
              "    }\n",
              "\n",
              "    .dataframe tbody tr th {\n",
              "        vertical-align: top;\n",
              "    }\n",
              "\n",
              "    .dataframe thead th {\n",
              "        text-align: right;\n",
              "    }\n",
              "</style>\n",
              "<table border=\"1\" class=\"dataframe\">\n",
              "  <thead>\n",
              "    <tr style=\"text-align: right;\">\n",
              "      <th></th>\n",
              "      <th>image</th>\n",
              "      <th>class</th>\n",
              "    </tr>\n",
              "  </thead>\n",
              "  <tbody>\n",
              "    <tr>\n",
              "      <th>0</th>\n",
              "      <td>nude0</td>\n",
              "      <td>nude</td>\n",
              "    </tr>\n",
              "    <tr>\n",
              "      <th>1</th>\n",
              "      <td>nude1</td>\n",
              "      <td>nude</td>\n",
              "    </tr>\n",
              "    <tr>\n",
              "      <th>2</th>\n",
              "      <td>nude2</td>\n",
              "      <td>nude</td>\n",
              "    </tr>\n",
              "    <tr>\n",
              "      <th>3</th>\n",
              "      <td>nude3</td>\n",
              "      <td>nude</td>\n",
              "    </tr>\n",
              "    <tr>\n",
              "      <th>4</th>\n",
              "      <td>nude4</td>\n",
              "      <td>nude</td>\n",
              "    </tr>\n",
              "  </tbody>\n",
              "</table>\n",
              "</div>\n",
              "      <button class=\"colab-df-convert\" onclick=\"convertToInteractive('df-23fdc2ca-01ab-4161-82ea-b5ce60091f38')\"\n",
              "              title=\"Convert this dataframe to an interactive table.\"\n",
              "              style=\"display:none;\">\n",
              "        \n",
              "  <svg xmlns=\"http://www.w3.org/2000/svg\" height=\"24px\"viewBox=\"0 0 24 24\"\n",
              "       width=\"24px\">\n",
              "    <path d=\"M0 0h24v24H0V0z\" fill=\"none\"/>\n",
              "    <path d=\"M18.56 5.44l.94 2.06.94-2.06 2.06-.94-2.06-.94-.94-2.06-.94 2.06-2.06.94zm-11 1L8.5 8.5l.94-2.06 2.06-.94-2.06-.94L8.5 2.5l-.94 2.06-2.06.94zm10 10l.94 2.06.94-2.06 2.06-.94-2.06-.94-.94-2.06-.94 2.06-2.06.94z\"/><path d=\"M17.41 7.96l-1.37-1.37c-.4-.4-.92-.59-1.43-.59-.52 0-1.04.2-1.43.59L10.3 9.45l-7.72 7.72c-.78.78-.78 2.05 0 2.83L4 21.41c.39.39.9.59 1.41.59.51 0 1.02-.2 1.41-.59l7.78-7.78 2.81-2.81c.8-.78.8-2.07 0-2.86zM5.41 20L4 18.59l7.72-7.72 1.47 1.35L5.41 20z\"/>\n",
              "  </svg>\n",
              "      </button>\n",
              "      \n",
              "  <style>\n",
              "    .colab-df-container {\n",
              "      display:flex;\n",
              "      flex-wrap:wrap;\n",
              "      gap: 12px;\n",
              "    }\n",
              "\n",
              "    .colab-df-convert {\n",
              "      background-color: #E8F0FE;\n",
              "      border: none;\n",
              "      border-radius: 50%;\n",
              "      cursor: pointer;\n",
              "      display: none;\n",
              "      fill: #1967D2;\n",
              "      height: 32px;\n",
              "      padding: 0 0 0 0;\n",
              "      width: 32px;\n",
              "    }\n",
              "\n",
              "    .colab-df-convert:hover {\n",
              "      background-color: #E2EBFA;\n",
              "      box-shadow: 0px 1px 2px rgba(60, 64, 67, 0.3), 0px 1px 3px 1px rgba(60, 64, 67, 0.15);\n",
              "      fill: #174EA6;\n",
              "    }\n",
              "\n",
              "    [theme=dark] .colab-df-convert {\n",
              "      background-color: #3B4455;\n",
              "      fill: #D2E3FC;\n",
              "    }\n",
              "\n",
              "    [theme=dark] .colab-df-convert:hover {\n",
              "      background-color: #434B5C;\n",
              "      box-shadow: 0px 1px 3px 1px rgba(0, 0, 0, 0.15);\n",
              "      filter: drop-shadow(0px 1px 2px rgba(0, 0, 0, 0.3));\n",
              "      fill: #FFFFFF;\n",
              "    }\n",
              "  </style>\n",
              "\n",
              "      <script>\n",
              "        const buttonEl =\n",
              "          document.querySelector('#df-23fdc2ca-01ab-4161-82ea-b5ce60091f38 button.colab-df-convert');\n",
              "        buttonEl.style.display =\n",
              "          google.colab.kernel.accessAllowed ? 'block' : 'none';\n",
              "\n",
              "        async function convertToInteractive(key) {\n",
              "          const element = document.querySelector('#df-23fdc2ca-01ab-4161-82ea-b5ce60091f38');\n",
              "          const dataTable =\n",
              "            await google.colab.kernel.invokeFunction('convertToInteractive',\n",
              "                                                     [key], {});\n",
              "          if (!dataTable) return;\n",
              "\n",
              "          const docLinkHtml = 'Like what you see? Visit the ' +\n",
              "            '<a target=\"_blank\" href=https://colab.research.google.com/notebooks/data_table.ipynb>data table notebook</a>'\n",
              "            + ' to learn more about interactive tables.';\n",
              "          element.innerHTML = '';\n",
              "          dataTable['output_type'] = 'display_data';\n",
              "          await google.colab.output.renderOutput(dataTable, element);\n",
              "          const docLink = document.createElement('div');\n",
              "          docLink.innerHTML = docLinkHtml;\n",
              "          element.appendChild(docLink);\n",
              "        }\n",
              "      </script>\n",
              "    </div>\n",
              "  </div>\n",
              "  "
            ]
          },
          "metadata": {},
          "execution_count": 27
        }
      ],
      "source": [
        "train_data = pd.DataFrame()\n",
        "train_image = []\n",
        "train_class = []\n",
        "for i in range(1684):\n",
        "    train_image.append('nude' + str(i))\n",
        "    train_class.append('nude')\n",
        "for i in range(1298):\n",
        "    train_image.append('safe' + str(i))\n",
        "    train_class.append('safe')\n",
        "for i in range(1490):\n",
        "    train_image.append('sexy' + str(i))\n",
        "    train_class.append('sexy')\n",
        "train_data['image'] = train_image\n",
        "train_data['class'] = train_class\n",
        "train_data.to_csv('new1.txt',header=True, index=False)\n",
        "train_data.head()"
      ]
    },
    {
      "cell_type": "code",
      "execution_count": null,
      "metadata": {
        "colab": {
          "base_uri": "https://localhost:8080/"
        },
        "id": "JEYyqyiuFg_b",
        "outputId": "ceb60d62-18cd-4b43-9bb1-68a91ce19337"
      },
      "outputs": [
        {
          "output_type": "execute_result",
          "data": {
            "text/plain": [
              "0       nude\n",
              "1684    safe\n",
              "2982    sexy\n",
              "Name: class, dtype: object"
            ]
          },
          "metadata": {},
          "execution_count": 28
        }
      ],
      "source": [
        "train_data['class'].drop_duplicates()"
      ]
    },
    {
      "cell_type": "code",
      "execution_count": null,
      "metadata": {
        "colab": {
          "base_uri": "https://localhost:8080/"
        },
        "id": "cnf4BHTnFg_c",
        "outputId": "ef9701df-6891-44e3-849d-dbe9a38ff4f3"
      },
      "outputs": [
        {
          "output_type": "execute_result",
          "data": {
            "text/plain": [
              "(4472, 2)"
            ]
          },
          "metadata": {},
          "execution_count": 29
        }
      ],
      "source": [
        "train = pd.read_csv('new1.txt')\n",
        "train.shape"
      ]
    },
    {
      "cell_type": "code",
      "execution_count": null,
      "metadata": {
        "colab": {
          "base_uri": "https://localhost:8080/"
        },
        "id": "RZJcZbF7Fg_d",
        "outputId": "6bc8dfe5-f906-4d19-bcbb-4b4c93437028"
      },
      "outputs": [
        {
          "output_type": "stream",
          "name": "stderr",
          "text": [
            " 33%|███▎      | 1460/4477 [00:39<00:57, 52.06it/s]"
          ]
        },
        {
          "output_type": "stream",
          "name": "stdout",
          "text": [
            "err\n"
          ]
        },
        {
          "output_type": "stream",
          "name": "stderr",
          "text": [
            " 37%|███▋      | 1644/4477 [00:45<02:04, 22.78it/s]"
          ]
        },
        {
          "output_type": "stream",
          "name": "stdout",
          "text": [
            "Downloading data from https://i.imgur.com/mLdbeDG.jpg\n",
            "1376868/1376868 [==============================] - 0s 0us/step\n",
            "Downloading data from https://i.imgur.com/p1Uc07A.jpeg\n",
            "529571/529571 [==============================] - 0s 0us/step\n"
          ]
        },
        {
          "output_type": "stream",
          "name": "stderr",
          "text": [
            "\r 37%|███▋      | 1647/4477 [00:45<02:30, 18.84it/s]"
          ]
        },
        {
          "output_type": "stream",
          "name": "stdout",
          "text": [
            "Downloading data from https://i.imgur.com/7aeL715.jpg\n",
            "198192/198192 [==============================] - 0s 0us/step\n",
            "Downloading data from http://i.imgur.com/9VdcZ5E.jpg\n",
            "770560/770560 [==============================] - 0s 0us/step\n",
            "Downloading data from https://i.redd.it/tcpgmnk5k5x11.jpg\n",
            "167977/167977 [==============================] - 0s 0us/step\n"
          ]
        },
        {
          "output_type": "stream",
          "name": "stderr",
          "text": [
            "\r 37%|███▋      | 1650/4477 [00:46<02:44, 17.15it/s]"
          ]
        },
        {
          "output_type": "stream",
          "name": "stdout",
          "text": [
            "Downloading data from https://i.redd.it/p82595lnckq11.jpg\n",
            "127099/127099 [==============================] - 0s 0us/step\n",
            "Downloading data from https://i.imgur.com/IAZBB7X.jpg\n",
            "94325/94325 [==============================] - 0s 0us/step\n"
          ]
        },
        {
          "output_type": "stream",
          "name": "stderr",
          "text": [
            "\r 37%|███▋      | 1652/4477 [00:46<02:47, 16.85it/s]"
          ]
        },
        {
          "output_type": "stream",
          "name": "stdout",
          "text": [
            "Downloading data from http://i.imgur.com/woCMP4J.jpg\n",
            "503/503 [==============================] - 0s 0us/step\n",
            "Downloading data from https://i.redd.it/jmc10z1gs9a21.jpg\n",
            "48144/48144 [==============================] - 0s 0us/step\n"
          ]
        },
        {
          "output_type": "stream",
          "name": "stderr",
          "text": [
            "\r 37%|███▋      | 1654/4477 [00:46<03:27, 13.61it/s]"
          ]
        },
        {
          "output_type": "stream",
          "name": "stdout",
          "text": [
            "Downloading data from https://i.redd.it/lqt1tz9hzsw11.jpg\n",
            "542036/542036 [==============================] - 0s 0us/step\n",
            "Downloading data from http://i.imgur.com/6nZMfrV.jpg\n",
            "399445/399445 [==============================] - 0s 0us/step\n"
          ]
        },
        {
          "output_type": "stream",
          "name": "stderr",
          "text": [
            "\r 37%|███▋      | 1656/4477 [00:46<03:57, 11.89it/s]"
          ]
        },
        {
          "output_type": "stream",
          "name": "stdout",
          "text": [
            "Downloading data from https://i.imgur.com/q5fktz8.jpg\n",
            "101948/101948 [==============================] - 0s 0us/step\n",
            "Downloading data from http://i.imgur.com/jmlshjT.jpg\n",
            "108950/108950 [==============================] - 0s 0us/step\n"
          ]
        },
        {
          "output_type": "stream",
          "name": "stderr",
          "text": [
            "\r 37%|███▋      | 1658/4477 [00:46<03:42, 12.68it/s]"
          ]
        },
        {
          "output_type": "stream",
          "name": "stdout",
          "text": [
            "Downloading data from http://i.imgur.com/Of3OzLJ.jpg\n",
            "224517/224517 [==============================] - 0s 0us/step\n",
            "Downloading data from http://i.imgur.com/Zqgn2kF.jpg\n",
            "111884/111884 [==============================] - 0s 0us/step\n"
          ]
        },
        {
          "output_type": "stream",
          "name": "stderr",
          "text": [
            "\r 37%|███▋      | 1660/4477 [00:46<03:32, 13.24it/s]"
          ]
        },
        {
          "output_type": "stream",
          "name": "stdout",
          "text": [
            "Downloading data from http://i.imgur.com/VN8IkjH.jpg\n",
            "119268/119268 [==============================] - 0s 0us/step\n",
            "Downloading data from https://i.redd.it/0pawrdwssu221.jpg\n",
            "143973/143973 [==============================] - 0s 0us/step\n"
          ]
        },
        {
          "output_type": "stream",
          "name": "stderr",
          "text": [
            "\r 37%|███▋      | 1662/4477 [00:47<03:22, 13.89it/s]"
          ]
        },
        {
          "output_type": "stream",
          "name": "stdout",
          "text": [
            "Downloading data from https://i.imgur.com/Jl24hGn.jpg\n",
            "415914/415914 [==============================] - 0s 0us/step\n",
            "Downloading data from https://i.imgur.com/5RONZUS.jpg\n",
            "203478/203478 [==============================] - 0s 0us/step\n"
          ]
        },
        {
          "output_type": "stream",
          "name": "stderr",
          "text": [
            "\r 37%|███▋      | 1664/4477 [00:47<03:18, 14.17it/s]"
          ]
        },
        {
          "output_type": "stream",
          "name": "stdout",
          "text": [
            "Downloading data from https://i.imgur.com/O3gNOUT.jpg\n",
            "109126/109126 [==============================] - 0s 0us/step\n",
            "Downloading data from https://i.imgur.com/IzyTDi0.jpg\n",
            "30869/30869 [==============================] - 0s 0us/step\n"
          ]
        },
        {
          "output_type": "stream",
          "name": "stderr",
          "text": [
            "\r 37%|███▋      | 1666/4477 [00:47<03:02, 15.38it/s]"
          ]
        },
        {
          "output_type": "stream",
          "name": "stdout",
          "text": [
            "Downloading data from https://i.imgur.com/GiQffoW.jpg\n",
            "373948/373948 [==============================] - 0s 0us/step\n",
            "Downloading data from https://i.redd.it/jenfstoj0q621.jpg\n",
            "66988/66988 [==============================] - 0s 0us/step\n"
          ]
        },
        {
          "output_type": "stream",
          "name": "stderr",
          "text": [
            "\r 37%|███▋      | 1668/4477 [00:47<02:59, 15.61it/s]"
          ]
        },
        {
          "output_type": "stream",
          "name": "stdout",
          "text": [
            "Downloading data from https://i.imgur.com/fmCz6Bf.jpg\n",
            "128361/128361 [==============================] - 0s 0us/step\n",
            "Downloading data from http://i.imgur.com/WrifJX0.jpg\n",
            "283826/283826 [==============================] - 0s 0us/step\n"
          ]
        },
        {
          "output_type": "stream",
          "name": "stderr",
          "text": [
            "\r 37%|███▋      | 1670/4477 [00:47<03:07, 15.01it/s]"
          ]
        },
        {
          "output_type": "stream",
          "name": "stdout",
          "text": [
            "Downloading data from https://i.imgur.com/HQECXYI.jpg\n",
            "110432/110432 [==============================] - 0s 0us/step\n",
            "Downloading data from https://i.redd.it/3nz05ipst7221.jpg\n",
            "167340/167340 [==============================] - 0s 0us/step\n"
          ]
        },
        {
          "output_type": "stream",
          "name": "stderr",
          "text": [
            "\r 37%|███▋      | 1672/4477 [00:47<02:57, 15.83it/s]"
          ]
        },
        {
          "output_type": "stream",
          "name": "stdout",
          "text": [
            "Downloading data from https://i.redd.it/h2tmd5bxuddz.jpg\n",
            "57716/57716 [==============================] - 0s 0us/step\n",
            "Downloading data from https://i.redd.it/6s1e7x9rtnd21.jpg\n",
            "186271/186271 [==============================] - 0s 0us/step\n",
            "Downloading data from https://i.imgur.com/Qu0MbAW.jpg\n",
            "316990/316990 [==============================] - 0s 0us/step\n"
          ]
        },
        {
          "output_type": "stream",
          "name": "stderr",
          "text": [
            "\r 37%|███▋      | 1675/4477 [00:47<02:50, 16.43it/s]"
          ]
        },
        {
          "output_type": "stream",
          "name": "stdout",
          "text": [
            "Downloading data from http://i.imgur.com/GdzW2cS.jpg\n",
            "130287/130287 [==============================] - 0s 0us/step\n",
            "Downloading data from http://i.imgur.com/gdJZwpi.jpg\n",
            "157811/157811 [==============================] - 0s 0us/step\n"
          ]
        },
        {
          "output_type": "stream",
          "name": "stderr",
          "text": [
            "\r 37%|███▋      | 1677/4477 [00:48<03:03, 15.30it/s]"
          ]
        },
        {
          "output_type": "stream",
          "name": "stdout",
          "text": [
            "Downloading data from https://i.imgur.com/XjBU6jB.jpg\n",
            "169777/169777 [==============================] - 0s 0us/step\n",
            "Downloading data from https://i.imgur.com/bHimEP7.jpg\n",
            "280558/280558 [==============================] - 0s 0us/step\n"
          ]
        },
        {
          "output_type": "stream",
          "name": "stderr",
          "text": [
            "\r 38%|███▊      | 1679/4477 [00:48<02:58, 15.64it/s]"
          ]
        },
        {
          "output_type": "stream",
          "name": "stdout",
          "text": [
            "Downloading data from https://i.redd.it/nyg1efkw45g11.jpg\n",
            "76752/76752 [==============================] - 0s 0us/step\n",
            "Downloading data from https://i.imgur.com/xGrN0u9.jpeg\n",
            "1202494/1202494 [==============================] - 0s 0us/step\n"
          ]
        },
        {
          "output_type": "stream",
          "name": "stderr",
          "text": [
            "\r 38%|███▊      | 1681/4477 [00:48<03:10, 14.70it/s]"
          ]
        },
        {
          "output_type": "stream",
          "name": "stdout",
          "text": [
            "Downloading data from https://i.imgur.com/KCK7hpA.jpg\n",
            "322487/322487 [==============================] - 0s 0us/step\n",
            "Downloading data from https://i.imgur.com/jIg8r2t.jpg\n",
            "100490/100490 [==============================] - 0s 0us/step\n"
          ]
        },
        {
          "output_type": "stream",
          "name": "stderr",
          "text": [
            "\r 38%|███▊      | 1683/4477 [00:48<03:05, 15.02it/s]"
          ]
        },
        {
          "output_type": "stream",
          "name": "stdout",
          "text": [
            "Downloading data from https://i.imgur.com/6MbCYbX.jpg\n",
            "48135/48135 [==============================] - 0s 0us/step\n"
          ]
        },
        {
          "output_type": "stream",
          "name": "stderr",
          "text": [
            " 38%|███▊      | 1720/4477 [00:49<01:07, 40.68it/s]"
          ]
        },
        {
          "output_type": "stream",
          "name": "stdout",
          "text": [
            "Downloading data from http://1.bp.blogspot.com/_IuiE-S8sR8g/TE8kS080KKI/AAAAAAAAAjo/3PM-QZJjnVg/s1600/mall_walkers.jpg\n",
            "249358/249358 [==============================] - 0s 0us/step\n"
          ]
        },
        {
          "output_type": "stream",
          "name": "stderr",
          "text": [
            " 39%|███▉      | 1758/4477 [00:49<00:36, 74.74it/s]"
          ]
        },
        {
          "output_type": "stream",
          "name": "stdout",
          "text": [
            "err\n",
            "Downloading data from http://i.imgur.com/AjgIi.jpg\n",
            "621868/621868 [==============================] - 0s 0us/step\n"
          ]
        },
        {
          "output_type": "stream",
          "name": "stderr",
          "text": [
            "\r 39%|███▉      | 1766/4477 [00:50<00:47, 57.29it/s]"
          ]
        },
        {
          "output_type": "stream",
          "name": "stdout",
          "text": [
            "Downloading data from http://i.imgur.com/6NKK235.jpg\n",
            "89695/89695 [==============================] - 0s 0us/step\n"
          ]
        },
        {
          "output_type": "stream",
          "name": "stderr",
          "text": [
            "\r 40%|███▉      | 1776/4477 [00:50<00:44, 60.18it/s]"
          ]
        },
        {
          "output_type": "stream",
          "name": "stdout",
          "text": [
            "err\n",
            "Downloading data from http://i.imgur.com/TCct5.jpg\n",
            "79428/79428 [==============================] - 0s 0us/step\n"
          ]
        },
        {
          "output_type": "stream",
          "name": "stderr",
          "text": [
            "\r 40%|███▉      | 1785/4477 [00:50<00:41, 65.47it/s]"
          ]
        },
        {
          "output_type": "stream",
          "name": "stdout",
          "text": [
            "Downloading data from http://i.imgur.com/ibWDm.jpg\n",
            "89573/89573 [==============================] - 0s 0us/step\n",
            "Downloading data from http://i.imgur.com/bUETc.jpg\n",
            "69190/69190 [==============================] - 0s 0us/step\n"
          ]
        },
        {
          "output_type": "stream",
          "name": "stderr",
          "text": [
            "\r 40%|████      | 1793/4477 [00:50<00:41, 64.43it/s]"
          ]
        },
        {
          "output_type": "stream",
          "name": "stdout",
          "text": [
            "err\n",
            "err\n"
          ]
        },
        {
          "output_type": "stream",
          "name": "stderr",
          "text": [
            "100%|██████████| 4477/4477 [01:25<00:00, 52.65it/s]\n"
          ]
        },
        {
          "output_type": "stream",
          "name": "stdout",
          "text": [
            "5\n"
          ]
        },
        {
          "output_type": "execute_result",
          "data": {
            "text/plain": [
              "(4472, 80, 80, 3)"
            ]
          },
          "metadata": {},
          "execution_count": 24
        }
      ],
      "source": [
        "train_image = []\n",
        "j=0\n",
        "errors=0\n",
        "with open(\"123.txt\") as file:\n",
        "  array = [row.strip() for row in file]\n",
        "  for i in tqdm(range(train.shape[0])):\n",
        "    try:\n",
        "      img = image.load_img(get_file(train['image'][i], array[j]), target_size=(80,80,3))\n",
        "      img = image.img_to_array(img)\n",
        "      img = img/255\n",
        "      train_image.append(img)\n",
        "    except Exception:\n",
        "      print('err')\n",
        "      errors=errors+1\n",
        "    j=j+1\n",
        "    \n",
        "print(errors)\n",
        "X = np.array(train_image)\n",
        "X.shape"
      ]
    },
    {
      "cell_type": "code",
      "execution_count": null,
      "metadata": {
        "id": "qDUiSiR2Fg_e",
        "colab": {
          "base_uri": "https://localhost:8080/"
        },
        "outputId": "41e8dba7-0d5a-42d8-90b0-c93a301c0dd6"
      },
      "outputs": [
        {
          "output_type": "stream",
          "name": "stdout",
          "text": [
            "768000000\n"
          ]
        }
      ],
      "source": [
        "a = np.random.uniform(400, 800, size = (5000, 80, 80, 3))\n",
        "print(a.size * a.itemsize)"
      ]
    },
    {
      "cell_type": "code",
      "execution_count": null,
      "metadata": {
        "id": "mEN4w91LFg_e"
      },
      "outputs": [],
      "source": [
        "y = train['class']\n",
        "\n",
        "X_train, X_test, y_train, y_test = train_test_split(X, y, random_state=42, test_size=0.2, stratify = y)"
      ]
    },
    {
      "cell_type": "code",
      "execution_count": null,
      "metadata": {
        "id": "IvPXtdNrFg_f"
      },
      "outputs": [],
      "source": [
        "y_train = pd.get_dummies(y_train)\n",
        "y_test = pd.get_dummies(y_test)"
      ]
    },
    {
      "cell_type": "code",
      "execution_count": null,
      "metadata": {
        "id": "fCNZFX8cFg_f",
        "outputId": "48216de1-09b5-4883-cf64-954db1c581c8",
        "colab": {
          "base_uri": "https://localhost:8080/",
          "height": 423
        }
      },
      "outputs": [
        {
          "output_type": "execute_result",
          "data": {
            "text/plain": [
              "      nude  safe  sexy\n",
              "536      1     0     0\n",
              "3097     0     0     1\n",
              "1151     1     0     0\n",
              "1542     1     0     0\n",
              "4137     0     0     1\n",
              "...    ...   ...   ...\n",
              "3906     0     0     1\n",
              "2950     0     1     0\n",
              "3849     0     0     1\n",
              "3868     0     0     1\n",
              "2352     0     1     0\n",
              "\n",
              "[3577 rows x 3 columns]"
            ],
            "text/html": [
              "\n",
              "  <div id=\"df-95562a96-e953-4e10-822a-e8e897807c3e\">\n",
              "    <div class=\"colab-df-container\">\n",
              "      <div>\n",
              "<style scoped>\n",
              "    .dataframe tbody tr th:only-of-type {\n",
              "        vertical-align: middle;\n",
              "    }\n",
              "\n",
              "    .dataframe tbody tr th {\n",
              "        vertical-align: top;\n",
              "    }\n",
              "\n",
              "    .dataframe thead th {\n",
              "        text-align: right;\n",
              "    }\n",
              "</style>\n",
              "<table border=\"1\" class=\"dataframe\">\n",
              "  <thead>\n",
              "    <tr style=\"text-align: right;\">\n",
              "      <th></th>\n",
              "      <th>nude</th>\n",
              "      <th>safe</th>\n",
              "      <th>sexy</th>\n",
              "    </tr>\n",
              "  </thead>\n",
              "  <tbody>\n",
              "    <tr>\n",
              "      <th>536</th>\n",
              "      <td>1</td>\n",
              "      <td>0</td>\n",
              "      <td>0</td>\n",
              "    </tr>\n",
              "    <tr>\n",
              "      <th>3097</th>\n",
              "      <td>0</td>\n",
              "      <td>0</td>\n",
              "      <td>1</td>\n",
              "    </tr>\n",
              "    <tr>\n",
              "      <th>1151</th>\n",
              "      <td>1</td>\n",
              "      <td>0</td>\n",
              "      <td>0</td>\n",
              "    </tr>\n",
              "    <tr>\n",
              "      <th>1542</th>\n",
              "      <td>1</td>\n",
              "      <td>0</td>\n",
              "      <td>0</td>\n",
              "    </tr>\n",
              "    <tr>\n",
              "      <th>4137</th>\n",
              "      <td>0</td>\n",
              "      <td>0</td>\n",
              "      <td>1</td>\n",
              "    </tr>\n",
              "    <tr>\n",
              "      <th>...</th>\n",
              "      <td>...</td>\n",
              "      <td>...</td>\n",
              "      <td>...</td>\n",
              "    </tr>\n",
              "    <tr>\n",
              "      <th>3906</th>\n",
              "      <td>0</td>\n",
              "      <td>0</td>\n",
              "      <td>1</td>\n",
              "    </tr>\n",
              "    <tr>\n",
              "      <th>2950</th>\n",
              "      <td>0</td>\n",
              "      <td>1</td>\n",
              "      <td>0</td>\n",
              "    </tr>\n",
              "    <tr>\n",
              "      <th>3849</th>\n",
              "      <td>0</td>\n",
              "      <td>0</td>\n",
              "      <td>1</td>\n",
              "    </tr>\n",
              "    <tr>\n",
              "      <th>3868</th>\n",
              "      <td>0</td>\n",
              "      <td>0</td>\n",
              "      <td>1</td>\n",
              "    </tr>\n",
              "    <tr>\n",
              "      <th>2352</th>\n",
              "      <td>0</td>\n",
              "      <td>1</td>\n",
              "      <td>0</td>\n",
              "    </tr>\n",
              "  </tbody>\n",
              "</table>\n",
              "<p>3577 rows × 3 columns</p>\n",
              "</div>\n",
              "      <button class=\"colab-df-convert\" onclick=\"convertToInteractive('df-95562a96-e953-4e10-822a-e8e897807c3e')\"\n",
              "              title=\"Convert this dataframe to an interactive table.\"\n",
              "              style=\"display:none;\">\n",
              "        \n",
              "  <svg xmlns=\"http://www.w3.org/2000/svg\" height=\"24px\"viewBox=\"0 0 24 24\"\n",
              "       width=\"24px\">\n",
              "    <path d=\"M0 0h24v24H0V0z\" fill=\"none\"/>\n",
              "    <path d=\"M18.56 5.44l.94 2.06.94-2.06 2.06-.94-2.06-.94-.94-2.06-.94 2.06-2.06.94zm-11 1L8.5 8.5l.94-2.06 2.06-.94-2.06-.94L8.5 2.5l-.94 2.06-2.06.94zm10 10l.94 2.06.94-2.06 2.06-.94-2.06-.94-.94-2.06-.94 2.06-2.06.94z\"/><path d=\"M17.41 7.96l-1.37-1.37c-.4-.4-.92-.59-1.43-.59-.52 0-1.04.2-1.43.59L10.3 9.45l-7.72 7.72c-.78.78-.78 2.05 0 2.83L4 21.41c.39.39.9.59 1.41.59.51 0 1.02-.2 1.41-.59l7.78-7.78 2.81-2.81c.8-.78.8-2.07 0-2.86zM5.41 20L4 18.59l7.72-7.72 1.47 1.35L5.41 20z\"/>\n",
              "  </svg>\n",
              "      </button>\n",
              "      \n",
              "  <style>\n",
              "    .colab-df-container {\n",
              "      display:flex;\n",
              "      flex-wrap:wrap;\n",
              "      gap: 12px;\n",
              "    }\n",
              "\n",
              "    .colab-df-convert {\n",
              "      background-color: #E8F0FE;\n",
              "      border: none;\n",
              "      border-radius: 50%;\n",
              "      cursor: pointer;\n",
              "      display: none;\n",
              "      fill: #1967D2;\n",
              "      height: 32px;\n",
              "      padding: 0 0 0 0;\n",
              "      width: 32px;\n",
              "    }\n",
              "\n",
              "    .colab-df-convert:hover {\n",
              "      background-color: #E2EBFA;\n",
              "      box-shadow: 0px 1px 2px rgba(60, 64, 67, 0.3), 0px 1px 3px 1px rgba(60, 64, 67, 0.15);\n",
              "      fill: #174EA6;\n",
              "    }\n",
              "\n",
              "    [theme=dark] .colab-df-convert {\n",
              "      background-color: #3B4455;\n",
              "      fill: #D2E3FC;\n",
              "    }\n",
              "\n",
              "    [theme=dark] .colab-df-convert:hover {\n",
              "      background-color: #434B5C;\n",
              "      box-shadow: 0px 1px 3px 1px rgba(0, 0, 0, 0.15);\n",
              "      filter: drop-shadow(0px 1px 2px rgba(0, 0, 0, 0.3));\n",
              "      fill: #FFFFFF;\n",
              "    }\n",
              "  </style>\n",
              "\n",
              "      <script>\n",
              "        const buttonEl =\n",
              "          document.querySelector('#df-95562a96-e953-4e10-822a-e8e897807c3e button.colab-df-convert');\n",
              "        buttonEl.style.display =\n",
              "          google.colab.kernel.accessAllowed ? 'block' : 'none';\n",
              "\n",
              "        async function convertToInteractive(key) {\n",
              "          const element = document.querySelector('#df-95562a96-e953-4e10-822a-e8e897807c3e');\n",
              "          const dataTable =\n",
              "            await google.colab.kernel.invokeFunction('convertToInteractive',\n",
              "                                                     [key], {});\n",
              "          if (!dataTable) return;\n",
              "\n",
              "          const docLinkHtml = 'Like what you see? Visit the ' +\n",
              "            '<a target=\"_blank\" href=https://colab.research.google.com/notebooks/data_table.ipynb>data table notebook</a>'\n",
              "            + ' to learn more about interactive tables.';\n",
              "          element.innerHTML = '';\n",
              "          dataTable['output_type'] = 'display_data';\n",
              "          await google.colab.output.renderOutput(dataTable, element);\n",
              "          const docLink = document.createElement('div');\n",
              "          docLink.innerHTML = docLinkHtml;\n",
              "          element.appendChild(docLink);\n",
              "        }\n",
              "      </script>\n",
              "    </div>\n",
              "  </div>\n",
              "  "
            ]
          },
          "metadata": {},
          "execution_count": 33
        }
      ],
      "source": [
        "y_train"
      ]
    },
    {
      "cell_type": "code",
      "execution_count": null,
      "metadata": {
        "id": "wLV10kuaFg_g",
        "outputId": "0473858d-00a7-476c-e9db-4e90a98eca2b",
        "colab": {
          "base_uri": "https://localhost:8080/"
        }
      },
      "outputs": [
        {
          "output_type": "stream",
          "name": "stdout",
          "text": [
            "Downloading data from https://storage.googleapis.com/tensorflow/keras-applications/vgg16/vgg16_weights_tf_dim_ordering_tf_kernels_notop.h5\n",
            "58889256/58889256 [==============================] - 2s 0us/step\n"
          ]
        }
      ],
      "source": [
        "base_model = tf.keras.applications.vgg16.VGG16(include_top=False, weights='imagenet', input_shape=(80,80,3))"
      ]
    },
    {
      "cell_type": "code",
      "execution_count": null,
      "metadata": {
        "id": "FfMlPNXKFg_g",
        "outputId": "1872012d-2c40-4e3a-fa00-e077923da179",
        "colab": {
          "base_uri": "https://localhost:8080/"
        }
      },
      "outputs": [
        {
          "output_type": "stream",
          "name": "stdout",
          "text": [
            "112/112 [==============================] - 11s 25ms/step\n"
          ]
        },
        {
          "output_type": "execute_result",
          "data": {
            "text/plain": [
              "(3577, 2, 2, 512)"
            ]
          },
          "metadata": {},
          "execution_count": 35
        }
      ],
      "source": [
        "X_train = base_model.predict(X_train)\n",
        "X_train.shape"
      ]
    },
    {
      "cell_type": "code",
      "execution_count": null,
      "metadata": {
        "id": "7684xiHUFg_g",
        "outputId": "70567aa0-0994-412d-8778-4521c3ec80a1",
        "colab": {
          "base_uri": "https://localhost:8080/"
        }
      },
      "outputs": [
        {
          "output_type": "stream",
          "name": "stdout",
          "text": [
            "28/28 [==============================] - 1s 48ms/step\n"
          ]
        },
        {
          "output_type": "execute_result",
          "data": {
            "text/plain": [
              "(895, 2, 2, 512)"
            ]
          },
          "metadata": {},
          "execution_count": 36
        }
      ],
      "source": [
        "X_test = base_model.predict(X_test)\n",
        "X_test.shape"
      ]
    },
    {
      "cell_type": "code",
      "execution_count": null,
      "metadata": {
        "id": "U4uOAm3EFg_g"
      },
      "outputs": [],
      "source": [
        "X_train = X_train.reshape(3577, 2*2*512)\n",
        "X_test = X_test.reshape(895, 2*2*512)"
      ]
    },
    {
      "cell_type": "code",
      "execution_count": null,
      "metadata": {
        "id": "JRr_FSE4Fg_h",
        "outputId": "5a1dd680-050f-4017-8bb5-cf3fee7bbbdc",
        "colab": {
          "base_uri": "https://localhost:8080/"
        }
      },
      "outputs": [
        {
          "output_type": "stream",
          "name": "stdout",
          "text": [
            "11.06427\n"
          ]
        }
      ],
      "source": [
        "max = X_train.max()\n",
        "print(max)\n",
        "X_train = X_train/max\n",
        "X_test = X_test/max"
      ]
    },
    {
      "cell_type": "code",
      "execution_count": null,
      "metadata": {
        "id": "rSaerrCMFg_h",
        "outputId": "d14b8956-d42a-46e8-e391-3ba4d9817d8f",
        "colab": {
          "base_uri": "https://localhost:8080/"
        }
      },
      "outputs": [
        {
          "output_type": "execute_result",
          "data": {
            "text/plain": [
              "(3577, 2048)"
            ]
          },
          "metadata": {},
          "execution_count": 40
        }
      ],
      "source": [
        "X_train.shape"
      ]
    },
    {
      "cell_type": "code",
      "execution_count": null,
      "metadata": {
        "id": "tJnDNs0FFg_h"
      },
      "outputs": [],
      "source": [
        "model = Sequential()\n",
        "model.add(Dense(1024, activation='relu', input_shape=(2048,)))\n",
        "model.add(Dropout(0.5))\n",
        "model.add(Dense(512, activation='relu'))\n",
        "model.add(Dropout(0.5))\n",
        "model.add(Dense(256, activation='relu'))\n",
        "model.add(Dropout(0.5))\n",
        "model.add(Dense(128, activation='relu'))\n",
        "model.add(Dropout(0.5))\n",
        "model.add(Dense(3, activation='softmax'))"
      ]
    },
    {
      "cell_type": "code",
      "execution_count": null,
      "metadata": {
        "id": "cTdDtyOfFg_h"
      },
      "outputs": [],
      "source": [
        "mcp_save = ModelCheckpoint('weight_80_36000.hdf5', save_best_only=True, monitor='val_loss', mode='min')"
      ]
    },
    {
      "cell_type": "code",
      "execution_count": null,
      "metadata": {
        "id": "vBdVHCk2Fg_h"
      },
      "outputs": [],
      "source": [
        "model.compile(loss='categorical_crossentropy',optimizer='Adam',metrics=['accuracy'])"
      ]
    },
    {
      "cell_type": "code",
      "execution_count": null,
      "metadata": {
        "id": "3Heor6LTFg_i"
      },
      "outputs": [],
      "source": [
        "y_train = y_train.to_numpy(copy=False)\n",
        "y_test = y_test.to_numpy(copy=False)"
      ]
    },
    {
      "cell_type": "code",
      "execution_count": null,
      "metadata": {
        "id": "RH9rhov8Fg_i"
      },
      "outputs": [],
      "source": [
        "y_train = y_train.astype('float32')\n",
        "y_test = y_test.astype('float32')"
      ]
    },
    {
      "cell_type": "code",
      "execution_count": null,
      "metadata": {
        "id": "uQQEhFIMFg_i",
        "outputId": "1fbb0a60-1fc2-4522-c488-8f30f3b06e10",
        "colab": {
          "base_uri": "https://localhost:8080/"
        }
      },
      "outputs": [
        {
          "output_type": "stream",
          "name": "stdout",
          "text": [
            "Epoch 1/200\n",
            "28/28 [==============================] - 4s 27ms/step - loss: 1.0689 - accuracy: 0.4096 - val_loss: 0.9562 - val_accuracy: 0.5732\n",
            "Epoch 2/200\n",
            "28/28 [==============================] - 0s 18ms/step - loss: 0.9121 - accuracy: 0.5832 - val_loss: 0.7996 - val_accuracy: 0.6492\n",
            "Epoch 3/200\n",
            "28/28 [==============================] - 0s 17ms/step - loss: 0.7806 - accuracy: 0.6791 - val_loss: 0.7193 - val_accuracy: 0.6972\n",
            "Epoch 4/200\n",
            "28/28 [==============================] - 0s 17ms/step - loss: 0.6950 - accuracy: 0.7190 - val_loss: 0.6838 - val_accuracy: 0.7073\n",
            "Epoch 5/200\n",
            "28/28 [==============================] - 0s 13ms/step - loss: 0.6457 - accuracy: 0.7473 - val_loss: 0.6873 - val_accuracy: 0.7095\n",
            "Epoch 6/200\n",
            "28/28 [==============================] - 0s 11ms/step - loss: 0.5963 - accuracy: 0.7702 - val_loss: 0.6933 - val_accuracy: 0.7151\n",
            "Epoch 7/200\n",
            "28/28 [==============================] - 0s 11ms/step - loss: 0.5711 - accuracy: 0.7805 - val_loss: 0.6597 - val_accuracy: 0.7341\n",
            "Epoch 8/200\n",
            "28/28 [==============================] - 0s 8ms/step - loss: 0.5235 - accuracy: 0.8046 - val_loss: 0.6740 - val_accuracy: 0.7341\n",
            "Epoch 9/200\n",
            "28/28 [==============================] - 0s 8ms/step - loss: 0.4757 - accuracy: 0.8278 - val_loss: 0.6714 - val_accuracy: 0.7419\n",
            "Epoch 10/200\n",
            "28/28 [==============================] - 0s 8ms/step - loss: 0.4359 - accuracy: 0.8468 - val_loss: 0.6948 - val_accuracy: 0.7408\n",
            "Epoch 11/200\n",
            "28/28 [==============================] - 0s 8ms/step - loss: 0.4064 - accuracy: 0.8468 - val_loss: 0.7175 - val_accuracy: 0.7363\n",
            "Epoch 12/200\n",
            "28/28 [==============================] - 0s 9ms/step - loss: 0.3708 - accuracy: 0.8697 - val_loss: 0.7449 - val_accuracy: 0.7318\n",
            "Epoch 13/200\n",
            "28/28 [==============================] - 0s 9ms/step - loss: 0.3555 - accuracy: 0.8728 - val_loss: 0.7406 - val_accuracy: 0.7508\n",
            "Epoch 14/200\n",
            "28/28 [==============================] - 0s 8ms/step - loss: 0.3467 - accuracy: 0.8708 - val_loss: 0.7403 - val_accuracy: 0.7330\n",
            "Epoch 15/200\n",
            "28/28 [==============================] - 0s 10ms/step - loss: 0.3186 - accuracy: 0.8843 - val_loss: 0.7865 - val_accuracy: 0.7263\n",
            "Epoch 16/200\n",
            "28/28 [==============================] - 0s 9ms/step - loss: 0.2854 - accuracy: 0.8968 - val_loss: 0.7938 - val_accuracy: 0.7385\n",
            "Epoch 17/200\n",
            "28/28 [==============================] - 0s 9ms/step - loss: 0.2655 - accuracy: 0.9097 - val_loss: 0.7539 - val_accuracy: 0.7531\n",
            "Epoch 18/200\n",
            "28/28 [==============================] - 0s 9ms/step - loss: 0.2337 - accuracy: 0.9192 - val_loss: 0.8661 - val_accuracy: 0.7408\n",
            "Epoch 19/200\n",
            "28/28 [==============================] - 0s 10ms/step - loss: 0.2208 - accuracy: 0.9251 - val_loss: 0.9006 - val_accuracy: 0.7352\n",
            "Epoch 20/200\n",
            "28/28 [==============================] - 0s 9ms/step - loss: 0.2131 - accuracy: 0.9256 - val_loss: 0.8223 - val_accuracy: 0.7464\n",
            "Epoch 21/200\n",
            "28/28 [==============================] - 0s 8ms/step - loss: 0.2023 - accuracy: 0.9323 - val_loss: 0.8978 - val_accuracy: 0.7341\n",
            "Epoch 22/200\n",
            "28/28 [==============================] - 0s 9ms/step - loss: 0.2061 - accuracy: 0.9287 - val_loss: 0.9931 - val_accuracy: 0.7196\n",
            "Epoch 23/200\n",
            "28/28 [==============================] - 0s 10ms/step - loss: 0.1995 - accuracy: 0.9335 - val_loss: 0.9010 - val_accuracy: 0.7531\n",
            "Epoch 24/200\n",
            "28/28 [==============================] - 0s 8ms/step - loss: 0.1922 - accuracy: 0.9343 - val_loss: 0.8795 - val_accuracy: 0.7397\n",
            "Epoch 25/200\n",
            "28/28 [==============================] - 0s 9ms/step - loss: 0.1775 - accuracy: 0.9382 - val_loss: 0.9076 - val_accuracy: 0.7441\n",
            "Epoch 26/200\n",
            "28/28 [==============================] - 0s 8ms/step - loss: 0.1584 - accuracy: 0.9466 - val_loss: 1.0386 - val_accuracy: 0.7453\n",
            "Epoch 27/200\n",
            "28/28 [==============================] - 0s 8ms/step - loss: 0.1561 - accuracy: 0.9441 - val_loss: 0.9878 - val_accuracy: 0.7341\n",
            "Epoch 28/200\n",
            "28/28 [==============================] - 0s 9ms/step - loss: 0.1472 - accuracy: 0.9491 - val_loss: 1.0164 - val_accuracy: 0.7318\n",
            "Epoch 29/200\n",
            "28/28 [==============================] - 0s 8ms/step - loss: 0.1415 - accuracy: 0.9536 - val_loss: 1.0671 - val_accuracy: 0.7475\n",
            "Epoch 30/200\n",
            "28/28 [==============================] - 0s 10ms/step - loss: 0.1299 - accuracy: 0.9567 - val_loss: 1.0589 - val_accuracy: 0.7453\n",
            "Epoch 31/200\n",
            "28/28 [==============================] - 0s 8ms/step - loss: 0.1336 - accuracy: 0.9564 - val_loss: 1.0362 - val_accuracy: 0.7430\n",
            "Epoch 32/200\n",
            "28/28 [==============================] - 0s 8ms/step - loss: 0.1439 - accuracy: 0.9494 - val_loss: 1.0164 - val_accuracy: 0.7520\n",
            "Epoch 33/200\n",
            "28/28 [==============================] - 0s 8ms/step - loss: 0.1357 - accuracy: 0.9564 - val_loss: 1.0500 - val_accuracy: 0.7385\n",
            "Epoch 34/200\n",
            "28/28 [==============================] - 0s 9ms/step - loss: 0.1163 - accuracy: 0.9628 - val_loss: 1.0355 - val_accuracy: 0.7464\n",
            "Epoch 35/200\n",
            "28/28 [==============================] - 0s 8ms/step - loss: 0.1141 - accuracy: 0.9614 - val_loss: 1.1100 - val_accuracy: 0.7475\n",
            "Epoch 36/200\n",
            "28/28 [==============================] - 0s 8ms/step - loss: 0.1110 - accuracy: 0.9623 - val_loss: 1.1194 - val_accuracy: 0.7397\n",
            "Epoch 37/200\n",
            "28/28 [==============================] - 0s 8ms/step - loss: 0.1060 - accuracy: 0.9606 - val_loss: 1.1583 - val_accuracy: 0.7352\n",
            "Epoch 38/200\n",
            "28/28 [==============================] - 0s 9ms/step - loss: 0.0999 - accuracy: 0.9628 - val_loss: 1.0600 - val_accuracy: 0.7318\n",
            "Epoch 39/200\n",
            "28/28 [==============================] - 0s 8ms/step - loss: 0.0936 - accuracy: 0.9692 - val_loss: 1.2810 - val_accuracy: 0.7274\n",
            "Epoch 40/200\n",
            "28/28 [==============================] - 0s 9ms/step - loss: 0.0923 - accuracy: 0.9698 - val_loss: 1.1381 - val_accuracy: 0.7553\n",
            "Epoch 41/200\n",
            "28/28 [==============================] - 0s 8ms/step - loss: 0.0991 - accuracy: 0.9662 - val_loss: 1.2752 - val_accuracy: 0.7508\n",
            "Epoch 42/200\n",
            "28/28 [==============================] - 0s 10ms/step - loss: 0.0912 - accuracy: 0.9690 - val_loss: 1.2642 - val_accuracy: 0.7453\n",
            "Epoch 43/200\n",
            "28/28 [==============================] - 0s 8ms/step - loss: 0.1041 - accuracy: 0.9642 - val_loss: 1.1410 - val_accuracy: 0.7531\n",
            "Epoch 44/200\n",
            "28/28 [==============================] - 0s 10ms/step - loss: 0.0801 - accuracy: 0.9734 - val_loss: 1.2173 - val_accuracy: 0.7419\n",
            "Epoch 45/200\n",
            "28/28 [==============================] - 0s 10ms/step - loss: 0.0814 - accuracy: 0.9706 - val_loss: 1.2662 - val_accuracy: 0.7330\n",
            "Epoch 46/200\n",
            "28/28 [==============================] - 0s 11ms/step - loss: 0.0871 - accuracy: 0.9712 - val_loss: 1.1494 - val_accuracy: 0.7475\n",
            "Epoch 47/200\n",
            "28/28 [==============================] - 0s 12ms/step - loss: 0.0819 - accuracy: 0.9715 - val_loss: 1.2968 - val_accuracy: 0.7564\n",
            "Epoch 48/200\n",
            "28/28 [==============================] - 0s 12ms/step - loss: 0.0671 - accuracy: 0.9762 - val_loss: 1.3053 - val_accuracy: 0.7419\n",
            "Epoch 49/200\n",
            "28/28 [==============================] - 0s 12ms/step - loss: 0.0731 - accuracy: 0.9734 - val_loss: 1.2538 - val_accuracy: 0.7419\n",
            "Epoch 50/200\n",
            "28/28 [==============================] - 0s 12ms/step - loss: 0.0758 - accuracy: 0.9712 - val_loss: 1.3401 - val_accuracy: 0.7330\n",
            "Epoch 51/200\n",
            "28/28 [==============================] - 0s 12ms/step - loss: 0.0677 - accuracy: 0.9757 - val_loss: 1.3569 - val_accuracy: 0.7575\n",
            "Epoch 52/200\n",
            "28/28 [==============================] - 0s 12ms/step - loss: 0.0640 - accuracy: 0.9765 - val_loss: 1.3848 - val_accuracy: 0.7520\n",
            "Epoch 53/200\n",
            "28/28 [==============================] - 0s 13ms/step - loss: 0.0640 - accuracy: 0.9790 - val_loss: 1.4096 - val_accuracy: 0.7274\n",
            "Epoch 54/200\n",
            "28/28 [==============================] - 0s 9ms/step - loss: 0.0677 - accuracy: 0.9734 - val_loss: 1.4083 - val_accuracy: 0.7542\n",
            "Epoch 55/200\n",
            "28/28 [==============================] - 0s 9ms/step - loss: 0.0710 - accuracy: 0.9765 - val_loss: 1.3516 - val_accuracy: 0.7318\n",
            "Epoch 56/200\n",
            "28/28 [==============================] - 0s 8ms/step - loss: 0.0698 - accuracy: 0.9734 - val_loss: 1.4295 - val_accuracy: 0.7430\n",
            "Epoch 57/200\n",
            "28/28 [==============================] - 0s 10ms/step - loss: 0.0563 - accuracy: 0.9793 - val_loss: 1.5848 - val_accuracy: 0.7385\n",
            "Epoch 58/200\n",
            "28/28 [==============================] - 0s 8ms/step - loss: 0.0605 - accuracy: 0.9779 - val_loss: 1.3610 - val_accuracy: 0.7318\n",
            "Epoch 59/200\n",
            "28/28 [==============================] - 0s 8ms/step - loss: 0.0598 - accuracy: 0.9807 - val_loss: 1.4256 - val_accuracy: 0.7430\n",
            "Epoch 60/200\n",
            "28/28 [==============================] - 0s 8ms/step - loss: 0.0676 - accuracy: 0.9751 - val_loss: 1.3250 - val_accuracy: 0.7385\n",
            "Epoch 61/200\n",
            "28/28 [==============================] - 0s 9ms/step - loss: 0.0603 - accuracy: 0.9774 - val_loss: 1.3972 - val_accuracy: 0.7542\n",
            "Epoch 62/200\n",
            "28/28 [==============================] - 0s 8ms/step - loss: 0.0545 - accuracy: 0.9788 - val_loss: 1.4823 - val_accuracy: 0.7352\n",
            "Epoch 63/200\n",
            "28/28 [==============================] - 0s 9ms/step - loss: 0.0615 - accuracy: 0.9760 - val_loss: 1.4378 - val_accuracy: 0.7441\n",
            "Epoch 64/200\n",
            "28/28 [==============================] - 0s 8ms/step - loss: 0.0652 - accuracy: 0.9760 - val_loss: 1.5207 - val_accuracy: 0.7318\n",
            "Epoch 65/200\n",
            "28/28 [==============================] - 0s 10ms/step - loss: 0.0572 - accuracy: 0.9815 - val_loss: 1.5626 - val_accuracy: 0.7296\n",
            "Epoch 66/200\n",
            "28/28 [==============================] - 0s 9ms/step - loss: 0.0546 - accuracy: 0.9771 - val_loss: 1.5709 - val_accuracy: 0.7408\n",
            "Epoch 67/200\n",
            "28/28 [==============================] - 0s 10ms/step - loss: 0.0691 - accuracy: 0.9751 - val_loss: 1.5409 - val_accuracy: 0.7520\n",
            "Epoch 68/200\n",
            "28/28 [==============================] - 0s 7ms/step - loss: 0.0575 - accuracy: 0.9768 - val_loss: 1.4034 - val_accuracy: 0.7397\n",
            "Epoch 69/200\n",
            "28/28 [==============================] - 0s 10ms/step - loss: 0.0588 - accuracy: 0.9804 - val_loss: 1.5439 - val_accuracy: 0.7385\n",
            "Epoch 70/200\n",
            "28/28 [==============================] - 0s 8ms/step - loss: 0.0559 - accuracy: 0.9785 - val_loss: 1.6177 - val_accuracy: 0.7475\n",
            "Epoch 71/200\n",
            "28/28 [==============================] - 0s 9ms/step - loss: 0.0616 - accuracy: 0.9751 - val_loss: 1.4211 - val_accuracy: 0.7352\n",
            "Epoch 72/200\n",
            "28/28 [==============================] - 0s 8ms/step - loss: 0.0476 - accuracy: 0.9838 - val_loss: 1.5246 - val_accuracy: 0.7453\n",
            "Epoch 73/200\n",
            "28/28 [==============================] - 0s 8ms/step - loss: 0.0489 - accuracy: 0.9827 - val_loss: 1.6488 - val_accuracy: 0.7464\n",
            "Epoch 74/200\n",
            "28/28 [==============================] - 0s 8ms/step - loss: 0.0708 - accuracy: 0.9751 - val_loss: 1.3980 - val_accuracy: 0.7363\n",
            "Epoch 75/200\n",
            "28/28 [==============================] - 0s 9ms/step - loss: 0.0586 - accuracy: 0.9776 - val_loss: 1.5637 - val_accuracy: 0.7430\n",
            "Epoch 76/200\n",
            "28/28 [==============================] - 0s 8ms/step - loss: 0.0497 - accuracy: 0.9799 - val_loss: 1.4824 - val_accuracy: 0.7453\n",
            "Epoch 77/200\n",
            "28/28 [==============================] - 0s 8ms/step - loss: 0.0423 - accuracy: 0.9815 - val_loss: 1.6246 - val_accuracy: 0.7475\n",
            "Epoch 78/200\n",
            "28/28 [==============================] - 0s 9ms/step - loss: 0.0409 - accuracy: 0.9827 - val_loss: 1.7882 - val_accuracy: 0.7441\n",
            "Epoch 79/200\n",
            "28/28 [==============================] - 0s 9ms/step - loss: 0.0545 - accuracy: 0.9818 - val_loss: 1.5714 - val_accuracy: 0.7497\n",
            "Epoch 80/200\n",
            "28/28 [==============================] - 0s 9ms/step - loss: 0.0481 - accuracy: 0.9824 - val_loss: 1.6786 - val_accuracy: 0.7430\n",
            "Epoch 81/200\n",
            "28/28 [==============================] - 0s 8ms/step - loss: 0.0483 - accuracy: 0.9821 - val_loss: 1.7407 - val_accuracy: 0.7408\n",
            "Epoch 82/200\n",
            "28/28 [==============================] - 0s 9ms/step - loss: 0.0551 - accuracy: 0.9774 - val_loss: 1.5803 - val_accuracy: 0.7419\n",
            "Epoch 83/200\n",
            "28/28 [==============================] - 0s 9ms/step - loss: 0.0550 - accuracy: 0.9782 - val_loss: 1.7230 - val_accuracy: 0.7441\n",
            "Epoch 84/200\n",
            "28/28 [==============================] - 0s 7ms/step - loss: 0.0711 - accuracy: 0.9746 - val_loss: 1.4652 - val_accuracy: 0.7430\n",
            "Epoch 85/200\n",
            "28/28 [==============================] - 0s 9ms/step - loss: 0.0428 - accuracy: 0.9815 - val_loss: 1.5508 - val_accuracy: 0.7520\n",
            "Epoch 86/200\n",
            "28/28 [==============================] - 0s 9ms/step - loss: 0.0496 - accuracy: 0.9815 - val_loss: 1.7724 - val_accuracy: 0.7441\n",
            "Epoch 87/200\n",
            "28/28 [==============================] - 0s 8ms/step - loss: 0.0528 - accuracy: 0.9796 - val_loss: 1.5881 - val_accuracy: 0.7419\n",
            "Epoch 88/200\n",
            "28/28 [==============================] - 0s 9ms/step - loss: 0.0704 - accuracy: 0.9720 - val_loss: 1.5500 - val_accuracy: 0.7318\n",
            "Epoch 89/200\n",
            "28/28 [==============================] - 0s 9ms/step - loss: 0.0547 - accuracy: 0.9796 - val_loss: 1.5554 - val_accuracy: 0.7397\n",
            "Epoch 90/200\n",
            "28/28 [==============================] - 0s 9ms/step - loss: 0.0583 - accuracy: 0.9782 - val_loss: 1.4875 - val_accuracy: 0.7419\n",
            "Epoch 91/200\n",
            "28/28 [==============================] - 0s 10ms/step - loss: 0.0478 - accuracy: 0.9810 - val_loss: 1.5671 - val_accuracy: 0.7285\n",
            "Epoch 92/200\n",
            "28/28 [==============================] - 0s 8ms/step - loss: 0.0392 - accuracy: 0.9849 - val_loss: 1.7345 - val_accuracy: 0.7307\n",
            "Epoch 93/200\n",
            "28/28 [==============================] - 0s 9ms/step - loss: 0.0359 - accuracy: 0.9871 - val_loss: 1.7651 - val_accuracy: 0.7419\n",
            "Epoch 94/200\n",
            "28/28 [==============================] - 0s 11ms/step - loss: 0.0372 - accuracy: 0.9860 - val_loss: 1.7832 - val_accuracy: 0.7363\n",
            "Epoch 95/200\n",
            "28/28 [==============================] - 0s 11ms/step - loss: 0.0521 - accuracy: 0.9802 - val_loss: 1.6748 - val_accuracy: 0.7385\n",
            "Epoch 96/200\n",
            "28/28 [==============================] - 0s 11ms/step - loss: 0.0446 - accuracy: 0.9818 - val_loss: 1.8351 - val_accuracy: 0.7475\n",
            "Epoch 97/200\n",
            "28/28 [==============================] - 0s 10ms/step - loss: 0.0437 - accuracy: 0.9827 - val_loss: 1.6534 - val_accuracy: 0.7318\n",
            "Epoch 98/200\n",
            "28/28 [==============================] - 0s 13ms/step - loss: 0.0467 - accuracy: 0.9813 - val_loss: 1.6424 - val_accuracy: 0.7419\n",
            "Epoch 99/200\n",
            "28/28 [==============================] - 0s 13ms/step - loss: 0.0426 - accuracy: 0.9821 - val_loss: 1.6974 - val_accuracy: 0.7453\n",
            "Epoch 100/200\n",
            "28/28 [==============================] - 0s 13ms/step - loss: 0.0435 - accuracy: 0.9821 - val_loss: 1.6533 - val_accuracy: 0.7341\n",
            "Epoch 101/200\n",
            "28/28 [==============================] - 0s 13ms/step - loss: 0.0511 - accuracy: 0.9807 - val_loss: 1.6890 - val_accuracy: 0.7464\n",
            "Epoch 102/200\n",
            "28/28 [==============================] - 0s 13ms/step - loss: 0.0492 - accuracy: 0.9804 - val_loss: 1.5146 - val_accuracy: 0.7352\n",
            "Epoch 103/200\n",
            "28/28 [==============================] - 0s 10ms/step - loss: 0.0455 - accuracy: 0.9829 - val_loss: 1.7028 - val_accuracy: 0.7587\n",
            "Epoch 104/200\n",
            "28/28 [==============================] - 0s 8ms/step - loss: 0.0393 - accuracy: 0.9855 - val_loss: 1.7961 - val_accuracy: 0.7520\n",
            "Epoch 105/200\n",
            "28/28 [==============================] - 0s 10ms/step - loss: 0.0290 - accuracy: 0.9877 - val_loss: 1.8329 - val_accuracy: 0.7464\n",
            "Epoch 106/200\n",
            "28/28 [==============================] - 0s 8ms/step - loss: 0.0334 - accuracy: 0.9846 - val_loss: 1.8912 - val_accuracy: 0.7240\n",
            "Epoch 107/200\n",
            "28/28 [==============================] - 0s 8ms/step - loss: 0.0559 - accuracy: 0.9762 - val_loss: 1.7114 - val_accuracy: 0.7464\n",
            "Epoch 108/200\n",
            "28/28 [==============================] - 0s 8ms/step - loss: 0.0499 - accuracy: 0.9804 - val_loss: 1.7729 - val_accuracy: 0.7508\n",
            "Epoch 109/200\n",
            "28/28 [==============================] - 0s 8ms/step - loss: 0.0575 - accuracy: 0.9796 - val_loss: 1.5266 - val_accuracy: 0.7352\n",
            "Epoch 110/200\n",
            "28/28 [==============================] - 0s 8ms/step - loss: 0.0421 - accuracy: 0.9849 - val_loss: 1.6673 - val_accuracy: 0.7430\n",
            "Epoch 111/200\n",
            "28/28 [==============================] - 0s 9ms/step - loss: 0.0394 - accuracy: 0.9852 - val_loss: 1.8027 - val_accuracy: 0.7352\n",
            "Epoch 112/200\n",
            "28/28 [==============================] - 0s 8ms/step - loss: 0.0534 - accuracy: 0.9782 - val_loss: 1.6354 - val_accuracy: 0.7397\n",
            "Epoch 113/200\n",
            "28/28 [==============================] - 0s 8ms/step - loss: 0.0448 - accuracy: 0.9813 - val_loss: 1.6835 - val_accuracy: 0.7296\n",
            "Epoch 114/200\n",
            "28/28 [==============================] - 0s 10ms/step - loss: 0.0388 - accuracy: 0.9877 - val_loss: 1.7775 - val_accuracy: 0.7330\n",
            "Epoch 115/200\n",
            "28/28 [==============================] - 0s 10ms/step - loss: 0.0356 - accuracy: 0.9843 - val_loss: 1.9235 - val_accuracy: 0.7441\n",
            "Epoch 116/200\n",
            "28/28 [==============================] - 0s 9ms/step - loss: 0.0449 - accuracy: 0.9829 - val_loss: 1.7161 - val_accuracy: 0.7464\n",
            "Epoch 117/200\n",
            "28/28 [==============================] - 0s 8ms/step - loss: 0.0494 - accuracy: 0.9818 - val_loss: 1.6818 - val_accuracy: 0.7307\n",
            "Epoch 118/200\n",
            "28/28 [==============================] - 0s 9ms/step - loss: 0.0440 - accuracy: 0.9838 - val_loss: 1.7088 - val_accuracy: 0.7419\n",
            "Epoch 119/200\n",
            "28/28 [==============================] - 0s 8ms/step - loss: 0.0324 - accuracy: 0.9885 - val_loss: 1.7829 - val_accuracy: 0.7430\n",
            "Epoch 120/200\n",
            "28/28 [==============================] - 0s 8ms/step - loss: 0.0324 - accuracy: 0.9849 - val_loss: 1.8596 - val_accuracy: 0.7385\n",
            "Epoch 121/200\n",
            "28/28 [==============================] - 0s 8ms/step - loss: 0.0517 - accuracy: 0.9807 - val_loss: 1.7176 - val_accuracy: 0.7385\n",
            "Epoch 122/200\n",
            "28/28 [==============================] - 0s 8ms/step - loss: 0.0446 - accuracy: 0.9829 - val_loss: 1.7449 - val_accuracy: 0.7285\n",
            "Epoch 123/200\n",
            "28/28 [==============================] - 0s 10ms/step - loss: 0.0482 - accuracy: 0.9796 - val_loss: 1.6910 - val_accuracy: 0.7363\n",
            "Epoch 124/200\n",
            "28/28 [==============================] - 0s 8ms/step - loss: 0.0555 - accuracy: 0.9793 - val_loss: 1.6119 - val_accuracy: 0.7307\n",
            "Epoch 125/200\n",
            "28/28 [==============================] - 0s 9ms/step - loss: 0.0475 - accuracy: 0.9821 - val_loss: 1.5615 - val_accuracy: 0.7352\n",
            "Epoch 126/200\n",
            "28/28 [==============================] - 0s 9ms/step - loss: 0.0369 - accuracy: 0.9843 - val_loss: 1.7013 - val_accuracy: 0.7397\n",
            "Epoch 127/200\n",
            "28/28 [==============================] - 0s 8ms/step - loss: 0.0294 - accuracy: 0.9857 - val_loss: 1.9103 - val_accuracy: 0.7419\n",
            "Epoch 128/200\n",
            "28/28 [==============================] - 0s 8ms/step - loss: 0.0381 - accuracy: 0.9852 - val_loss: 1.7888 - val_accuracy: 0.7296\n",
            "Epoch 129/200\n",
            "28/28 [==============================] - 0s 9ms/step - loss: 0.0473 - accuracy: 0.9813 - val_loss: 1.7756 - val_accuracy: 0.7330\n",
            "Epoch 130/200\n",
            "28/28 [==============================] - 0s 8ms/step - loss: 0.0320 - accuracy: 0.9832 - val_loss: 2.0003 - val_accuracy: 0.7397\n",
            "Epoch 131/200\n",
            "28/28 [==============================] - 0s 8ms/step - loss: 0.0349 - accuracy: 0.9863 - val_loss: 2.0670 - val_accuracy: 0.7408\n",
            "Epoch 132/200\n",
            "28/28 [==============================] - 0s 8ms/step - loss: 0.0372 - accuracy: 0.9843 - val_loss: 1.8446 - val_accuracy: 0.7330\n",
            "Epoch 133/200\n",
            "28/28 [==============================] - 0s 8ms/step - loss: 0.0417 - accuracy: 0.9818 - val_loss: 1.9359 - val_accuracy: 0.7352\n",
            "Epoch 134/200\n",
            "28/28 [==============================] - 0s 8ms/step - loss: 0.0317 - accuracy: 0.9852 - val_loss: 1.8621 - val_accuracy: 0.7274\n",
            "Epoch 135/200\n",
            "28/28 [==============================] - 0s 9ms/step - loss: 0.0428 - accuracy: 0.9843 - val_loss: 1.9753 - val_accuracy: 0.7441\n",
            "Epoch 136/200\n",
            "28/28 [==============================] - 0s 8ms/step - loss: 0.0325 - accuracy: 0.9841 - val_loss: 1.8982 - val_accuracy: 0.7374\n",
            "Epoch 137/200\n",
            "28/28 [==============================] - 0s 16ms/step - loss: 0.0540 - accuracy: 0.9802 - val_loss: 1.7888 - val_accuracy: 0.7430\n",
            "Epoch 138/200\n",
            "28/28 [==============================] - 0s 16ms/step - loss: 0.0413 - accuracy: 0.9849 - val_loss: 1.7432 - val_accuracy: 0.7497\n",
            "Epoch 139/200\n",
            "28/28 [==============================] - 0s 10ms/step - loss: 0.0417 - accuracy: 0.9827 - val_loss: 1.8626 - val_accuracy: 0.7385\n",
            "Epoch 140/200\n",
            "28/28 [==============================] - 1s 20ms/step - loss: 0.0507 - accuracy: 0.9799 - val_loss: 1.7924 - val_accuracy: 0.7374\n",
            "Epoch 141/200\n",
            "28/28 [==============================] - 1s 24ms/step - loss: 0.0547 - accuracy: 0.9782 - val_loss: 1.9610 - val_accuracy: 0.7397\n",
            "Epoch 142/200\n",
            "28/28 [==============================] - 0s 12ms/step - loss: 0.0395 - accuracy: 0.9846 - val_loss: 1.8589 - val_accuracy: 0.7408\n",
            "Epoch 143/200\n",
            "28/28 [==============================] - 1s 43ms/step - loss: 0.0374 - accuracy: 0.9869 - val_loss: 1.9779 - val_accuracy: 0.7352\n",
            "Epoch 144/200\n",
            "28/28 [==============================] - 0s 13ms/step - loss: 0.0439 - accuracy: 0.9838 - val_loss: 1.8362 - val_accuracy: 0.7341\n",
            "Epoch 145/200\n",
            "28/28 [==============================] - 0s 13ms/step - loss: 0.0365 - accuracy: 0.9832 - val_loss: 1.9012 - val_accuracy: 0.7296\n",
            "Epoch 146/200\n",
            "28/28 [==============================] - 0s 12ms/step - loss: 0.0460 - accuracy: 0.9855 - val_loss: 1.8022 - val_accuracy: 0.7385\n",
            "Epoch 147/200\n",
            "28/28 [==============================] - 0s 9ms/step - loss: 0.0397 - accuracy: 0.9852 - val_loss: 1.9555 - val_accuracy: 0.7397\n",
            "Epoch 148/200\n",
            "28/28 [==============================] - 0s 8ms/step - loss: 0.0373 - accuracy: 0.9841 - val_loss: 1.7605 - val_accuracy: 0.7531\n",
            "Epoch 149/200\n",
            "28/28 [==============================] - 0s 9ms/step - loss: 0.0273 - accuracy: 0.9860 - val_loss: 1.8410 - val_accuracy: 0.7419\n",
            "Epoch 150/200\n",
            "28/28 [==============================] - 0s 9ms/step - loss: 0.0275 - accuracy: 0.9866 - val_loss: 2.0926 - val_accuracy: 0.7497\n",
            "Epoch 151/200\n",
            "28/28 [==============================] - 0s 8ms/step - loss: 0.0236 - accuracy: 0.9894 - val_loss: 2.1835 - val_accuracy: 0.7486\n",
            "Epoch 152/200\n",
            "28/28 [==============================] - 0s 9ms/step - loss: 0.0329 - accuracy: 0.9852 - val_loss: 2.0967 - val_accuracy: 0.7464\n",
            "Epoch 153/200\n",
            "28/28 [==============================] - 0s 8ms/step - loss: 0.0368 - accuracy: 0.9813 - val_loss: 1.9159 - val_accuracy: 0.7486\n",
            "Epoch 154/200\n",
            "28/28 [==============================] - 0s 10ms/step - loss: 0.0337 - accuracy: 0.9863 - val_loss: 1.9319 - val_accuracy: 0.7453\n",
            "Epoch 155/200\n",
            "28/28 [==============================] - 0s 9ms/step - loss: 0.0362 - accuracy: 0.9855 - val_loss: 1.9421 - val_accuracy: 0.7508\n",
            "Epoch 156/200\n",
            "28/28 [==============================] - 0s 10ms/step - loss: 0.0464 - accuracy: 0.9804 - val_loss: 1.8757 - val_accuracy: 0.7229\n",
            "Epoch 157/200\n",
            "28/28 [==============================] - 0s 8ms/step - loss: 0.0368 - accuracy: 0.9849 - val_loss: 1.8833 - val_accuracy: 0.7430\n",
            "Epoch 158/200\n",
            "28/28 [==============================] - 0s 9ms/step - loss: 0.0391 - accuracy: 0.9835 - val_loss: 1.8596 - val_accuracy: 0.7453\n",
            "Epoch 159/200\n",
            "28/28 [==============================] - 0s 10ms/step - loss: 0.0312 - accuracy: 0.9869 - val_loss: 1.8918 - val_accuracy: 0.7475\n",
            "Epoch 160/200\n",
            "28/28 [==============================] - 0s 8ms/step - loss: 0.0330 - accuracy: 0.9852 - val_loss: 1.9594 - val_accuracy: 0.7542\n",
            "Epoch 161/200\n",
            "28/28 [==============================] - 0s 9ms/step - loss: 0.0351 - accuracy: 0.9846 - val_loss: 2.0425 - val_accuracy: 0.7486\n",
            "Epoch 162/200\n",
            "28/28 [==============================] - 0s 9ms/step - loss: 0.0267 - accuracy: 0.9846 - val_loss: 2.1776 - val_accuracy: 0.7542\n",
            "Epoch 163/200\n",
            "28/28 [==============================] - 0s 10ms/step - loss: 0.0263 - accuracy: 0.9869 - val_loss: 2.0779 - val_accuracy: 0.7475\n",
            "Epoch 164/200\n",
            "28/28 [==============================] - 0s 8ms/step - loss: 0.0305 - accuracy: 0.9869 - val_loss: 2.2593 - val_accuracy: 0.7497\n",
            "Epoch 165/200\n",
            "28/28 [==============================] - 0s 8ms/step - loss: 0.0388 - accuracy: 0.9852 - val_loss: 1.9102 - val_accuracy: 0.7520\n",
            "Epoch 166/200\n",
            "28/28 [==============================] - 0s 9ms/step - loss: 0.0427 - accuracy: 0.9813 - val_loss: 2.0963 - val_accuracy: 0.7430\n",
            "Epoch 167/200\n",
            "28/28 [==============================] - 0s 8ms/step - loss: 0.0591 - accuracy: 0.9788 - val_loss: 1.7480 - val_accuracy: 0.7318\n",
            "Epoch 168/200\n",
            "28/28 [==============================] - 0s 8ms/step - loss: 0.0468 - accuracy: 0.9810 - val_loss: 1.7126 - val_accuracy: 0.7531\n",
            "Epoch 169/200\n",
            "28/28 [==============================] - 0s 10ms/step - loss: 0.0356 - accuracy: 0.9818 - val_loss: 1.7979 - val_accuracy: 0.7453\n",
            "Epoch 170/200\n",
            "28/28 [==============================] - 0s 9ms/step - loss: 0.0290 - accuracy: 0.9857 - val_loss: 1.8510 - val_accuracy: 0.7508\n",
            "Epoch 171/200\n",
            "28/28 [==============================] - 0s 9ms/step - loss: 0.0254 - accuracy: 0.9894 - val_loss: 2.0092 - val_accuracy: 0.7520\n",
            "Epoch 172/200\n",
            "28/28 [==============================] - 0s 9ms/step - loss: 0.0248 - accuracy: 0.9877 - val_loss: 2.0338 - val_accuracy: 0.7508\n",
            "Epoch 173/200\n",
            "28/28 [==============================] - 0s 8ms/step - loss: 0.0325 - accuracy: 0.9877 - val_loss: 1.8863 - val_accuracy: 0.7464\n",
            "Epoch 174/200\n",
            "28/28 [==============================] - 0s 10ms/step - loss: 0.0343 - accuracy: 0.9857 - val_loss: 2.1184 - val_accuracy: 0.7430\n",
            "Epoch 175/200\n",
            "28/28 [==============================] - 0s 9ms/step - loss: 0.0409 - accuracy: 0.9849 - val_loss: 1.8896 - val_accuracy: 0.7497\n",
            "Epoch 176/200\n",
            "28/28 [==============================] - 0s 10ms/step - loss: 0.0381 - accuracy: 0.9821 - val_loss: 2.0733 - val_accuracy: 0.7453\n",
            "Epoch 177/200\n",
            "28/28 [==============================] - 0s 8ms/step - loss: 0.0405 - accuracy: 0.9815 - val_loss: 1.9365 - val_accuracy: 0.7374\n",
            "Epoch 178/200\n",
            "28/28 [==============================] - 0s 9ms/step - loss: 0.0311 - accuracy: 0.9857 - val_loss: 2.0765 - val_accuracy: 0.7441\n",
            "Epoch 179/200\n",
            "28/28 [==============================] - 0s 10ms/step - loss: 0.0362 - accuracy: 0.9846 - val_loss: 1.8525 - val_accuracy: 0.7408\n",
            "Epoch 180/200\n",
            "28/28 [==============================] - 0s 9ms/step - loss: 0.0295 - accuracy: 0.9871 - val_loss: 2.2019 - val_accuracy: 0.7363\n",
            "Epoch 181/200\n",
            "28/28 [==============================] - 0s 8ms/step - loss: 0.0542 - accuracy: 0.9807 - val_loss: 1.9848 - val_accuracy: 0.7274\n",
            "Epoch 182/200\n",
            "28/28 [==============================] - 0s 10ms/step - loss: 0.0599 - accuracy: 0.9776 - val_loss: 1.7354 - val_accuracy: 0.7531\n",
            "Epoch 183/200\n",
            "28/28 [==============================] - 0s 10ms/step - loss: 0.0325 - accuracy: 0.9855 - val_loss: 1.9231 - val_accuracy: 0.7385\n",
            "Epoch 184/200\n",
            "28/28 [==============================] - 0s 9ms/step - loss: 0.0305 - accuracy: 0.9874 - val_loss: 2.0293 - val_accuracy: 0.7408\n",
            "Epoch 185/200\n",
            "28/28 [==============================] - 0s 13ms/step - loss: 0.0313 - accuracy: 0.9857 - val_loss: 2.0284 - val_accuracy: 0.7385\n",
            "Epoch 186/200\n",
            "28/28 [==============================] - 0s 11ms/step - loss: 0.0306 - accuracy: 0.9863 - val_loss: 2.0946 - val_accuracy: 0.7341\n",
            "Epoch 187/200\n",
            "28/28 [==============================] - 0s 10ms/step - loss: 0.0398 - accuracy: 0.9829 - val_loss: 1.9914 - val_accuracy: 0.7453\n",
            "Epoch 188/200\n",
            "28/28 [==============================] - 0s 12ms/step - loss: 0.0512 - accuracy: 0.9810 - val_loss: 1.8616 - val_accuracy: 0.7419\n",
            "Epoch 189/200\n",
            "28/28 [==============================] - 0s 12ms/step - loss: 0.0408 - accuracy: 0.9838 - val_loss: 1.8604 - val_accuracy: 0.7408\n",
            "Epoch 190/200\n",
            "28/28 [==============================] - 0s 12ms/step - loss: 0.0392 - accuracy: 0.9852 - val_loss: 1.7840 - val_accuracy: 0.7385\n",
            "Epoch 191/200\n",
            "28/28 [==============================] - 0s 12ms/step - loss: 0.0278 - accuracy: 0.9880 - val_loss: 2.0556 - val_accuracy: 0.7531\n",
            "Epoch 192/200\n",
            "28/28 [==============================] - 0s 12ms/step - loss: 0.0313 - accuracy: 0.9849 - val_loss: 2.0954 - val_accuracy: 0.7397\n",
            "Epoch 193/200\n",
            "28/28 [==============================] - 0s 11ms/step - loss: 0.0341 - accuracy: 0.9866 - val_loss: 1.9508 - val_accuracy: 0.7374\n",
            "Epoch 194/200\n",
            "28/28 [==============================] - 0s 9ms/step - loss: 0.0341 - accuracy: 0.9827 - val_loss: 2.2243 - val_accuracy: 0.7385\n",
            "Epoch 195/200\n",
            "28/28 [==============================] - 0s 10ms/step - loss: 0.0402 - accuracy: 0.9813 - val_loss: 1.7591 - val_accuracy: 0.7453\n",
            "Epoch 196/200\n",
            "28/28 [==============================] - 0s 8ms/step - loss: 0.0291 - accuracy: 0.9869 - val_loss: 1.9371 - val_accuracy: 0.7542\n",
            "Epoch 197/200\n",
            "28/28 [==============================] - 0s 8ms/step - loss: 0.0442 - accuracy: 0.9829 - val_loss: 1.8713 - val_accuracy: 0.7453\n",
            "Epoch 198/200\n",
            "28/28 [==============================] - 0s 9ms/step - loss: 0.0371 - accuracy: 0.9849 - val_loss: 1.8754 - val_accuracy: 0.7352\n",
            "Epoch 199/200\n",
            "28/28 [==============================] - 0s 9ms/step - loss: 0.0366 - accuracy: 0.9857 - val_loss: 1.9903 - val_accuracy: 0.7363\n",
            "Epoch 200/200\n",
            "28/28 [==============================] - 0s 8ms/step - loss: 0.0320 - accuracy: 0.9857 - val_loss: 2.2196 - val_accuracy: 0.7397\n"
          ]
        },
        {
          "output_type": "execute_result",
          "data": {
            "text/plain": [
              "<keras.callbacks.History at 0x7f4b707c5060>"
            ]
          },
          "metadata": {},
          "execution_count": 46
        }
      ],
      "source": [
        "model.fit(X_train, y_train, epochs=200, validation_data=(X_test, y_test), callbacks=[mcp_save], batch_size=128)"
      ]
    },
    {
      "cell_type": "code",
      "source": [
        "predictions = model.predict(X_test)"
      ],
      "metadata": {
        "colab": {
          "base_uri": "https://localhost:8080/"
        },
        "id": "9CZ5MJ_vbV7b",
        "outputId": "831d5d66-38e6-4b6d-f792-afea0300b198"
      },
      "execution_count": null,
      "outputs": [
        {
          "output_type": "stream",
          "name": "stdout",
          "text": [
            "28/28 [==============================] - 0s 2ms/step\n"
          ]
        }
      ]
    },
    {
      "cell_type": "code",
      "source": [
        "im = 6\n",
        "np.argmax(predictions[im])\n",
        "print (predictions [im])"
      ],
      "metadata": {
        "colab": {
          "base_uri": "https://localhost:8080/"
        },
        "id": "TsoQagD3b8Cw",
        "outputId": "69aa0479-2334-4b53-d98c-5a4beb3fad8d"
      },
      "execution_count": null,
      "outputs": [
        {
          "output_type": "stream",
          "name": "stdout",
          "text": [
            "[7.1147156e-01 2.1017071e-04 2.8831834e-01]\n"
          ]
        }
      ]
    },
    {
      "cell_type": "code",
      "execution_count": null,
      "metadata": {
        "id": "9BYSN6g3Fg_i",
        "outputId": "9520a5b9-c3d5-4109-aa30-0ae7d2a9d0e4",
        "colab": {
          "base_uri": "https://localhost:8080/"
        }
      },
      "outputs": [
        {
          "output_type": "stream",
          "name": "stdout",
          "text": [
            "Model: \"sequential\"\n",
            "_________________________________________________________________\n",
            " Layer (type)                Output Shape              Param #   \n",
            "=================================================================\n",
            " dense (Dense)               (None, 1024)              2098176   \n",
            "                                                                 \n",
            " dropout (Dropout)           (None, 1024)              0         \n",
            "                                                                 \n",
            " dense_1 (Dense)             (None, 512)               524800    \n",
            "                                                                 \n",
            " dropout_1 (Dropout)         (None, 512)               0         \n",
            "                                                                 \n",
            " dense_2 (Dense)             (None, 256)               131328    \n",
            "                                                                 \n",
            " dropout_2 (Dropout)         (None, 256)               0         \n",
            "                                                                 \n",
            " dense_3 (Dense)             (None, 128)               32896     \n",
            "                                                                 \n",
            " dropout_3 (Dropout)         (None, 128)               0         \n",
            "                                                                 \n",
            " dense_4 (Dense)             (None, 3)                 387       \n",
            "                                                                 \n",
            "=================================================================\n",
            "Total params: 2,787,587\n",
            "Trainable params: 2,787,587\n",
            "Non-trainable params: 0\n",
            "_________________________________________________________________\n"
          ]
        }
      ],
      "source": [
        "model.summary()"
      ]
    }
  ],
  "metadata": {
    "kernelspec": {
      "display_name": "Python 3",
      "language": "python",
      "name": "python3"
    },
    "language_info": {
      "codemirror_mode": {
        "name": "ipython",
        "version": 3
      },
      "file_extension": ".py",
      "mimetype": "text/x-python",
      "name": "python",
      "nbconvert_exporter": "python",
      "pygments_lexer": "ipython3",
      "version": "3.8.2"
    },
    "colab": {
      "provenance": [],
      "gpuType": "T4",
      "include_colab_link": true
    },
    "accelerator": "GPU",
    "gpuClass": "standard"
  },
  "nbformat": 4,
  "nbformat_minor": 0
}